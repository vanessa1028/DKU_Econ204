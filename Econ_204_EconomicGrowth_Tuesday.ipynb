{
  "nbformat": 4,
  "nbformat_minor": 0,
  "metadata": {
    "colab": {
      "name": "Econ_204_EconomicGrowth: Tuesday.ipynb",
      "provenance": [],
      "collapsed_sections": [],
      "include_colab_link": true
    },
    "kernelspec": {
      "name": "python3",
      "display_name": "Python 3"
    }
  },
  "cells": [
    {
      "cell_type": "markdown",
      "metadata": {
        "id": "view-in-github",
        "colab_type": "text"
      },
      "source": [
        "<a href=\"https://colab.research.google.com/github/vanessa1028/DKU_Econ204/blob/main/Econ_204_EconomicGrowth_Tuesday.ipynb\" target=\"_parent\"><img src=\"https://colab.research.google.com/assets/colab-badge.svg\" alt=\"Open In Colab\"/></a>"
      ]
    },
    {
      "cell_type": "markdown",
      "metadata": {
        "id": "R7fwSVGY6qUN"
      },
      "source": [
        "**Step 1: Define the Exognous Variables**\n",
        "\n",
        "The saving rate: $s$\n",
        "\n",
        "The depreciation rate: $\\delta$\n",
        "\n",
        "The popoulation growth rate: $n$\n",
        "\n",
        "The Technology level: $A$\n",
        "\n",
        "The Initial labor level: $L(0)$\n",
        "\n",
        "The Initial capital level: $K(0)$\n",
        "\n",
        "\n",
        "\n"
      ]
    },
    {
      "cell_type": "code",
      "metadata": {
        "id": "h2Tg5n_656xi"
      },
      "source": [
        "s = 0.5\n",
        "delta = 0.1\n",
        "n=2\n",
        "A=10\n",
        "L0=100\n",
        "K0=100\n"
      ],
      "execution_count": null,
      "outputs": []
    },
    {
      "cell_type": "code",
      "metadata": {
        "id": "NW1OJSt5uq-k",
        "outputId": "476a9698-03b8-466c-a9c5-bbc4ddb2527e",
        "colab": {
          "base_uri": "https://localhost:8080/"
        }
      },
      "source": [
        "k0=K0/L0\n",
        "k0"
      ],
      "execution_count": null,
      "outputs": [
        {
          "output_type": "execute_result",
          "data": {
            "text/plain": [
              "1.0"
            ]
          },
          "metadata": {
            "tags": []
          },
          "execution_count": 4
        }
      ]
    },
    {
      "cell_type": "markdown",
      "metadata": {
        "id": "VPAThZQq7qcp"
      },
      "source": [
        "Simulate $L =L(0)*e^{nt}$"
      ]
    },
    {
      "cell_type": "code",
      "metadata": {
        "id": "SaoDi87-9Ruf"
      },
      "source": [
        "### import the package\n",
        "import numpy as np"
      ],
      "execution_count": null,
      "outputs": []
    },
    {
      "cell_type": "code",
      "metadata": {
        "id": "tdb9YJMf8WcG"
      },
      "source": [
        "### define the function\n",
        "def L(t):\n",
        "  L=L0*np.exp(n*t)\n",
        "  return L"
      ],
      "execution_count": null,
      "outputs": []
    },
    {
      "cell_type": "code",
      "metadata": {
        "id": "LJfz30TU9OPx",
        "outputId": "9594adaf-3bc1-4dca-892b-21b5bb43b370",
        "colab": {
          "base_uri": "https://localhost:8080/"
        }
      },
      "source": [
        "### check the initial value\n",
        "L(0)"
      ],
      "execution_count": null,
      "outputs": [
        {
          "output_type": "execute_result",
          "data": {
            "text/plain": [
              "100.0"
            ]
          },
          "metadata": {
            "tags": []
          },
          "execution_count": 7
        }
      ]
    },
    {
      "cell_type": "code",
      "metadata": {
        "id": "bsGDSnAI-Hn0"
      },
      "source": [
        "t = np.linspace(0, 10)\n",
        "L=L(t)\n"
      ],
      "execution_count": null,
      "outputs": []
    },
    {
      "cell_type": "code",
      "metadata": {
        "id": "rnmjtT3Elw5_",
        "outputId": "389c2aee-b026-48e8-f80d-fe5901add583",
        "colab": {
          "base_uri": "https://localhost:8080/",
          "height": 276
        }
      },
      "source": [
        "### plot the function\n",
        "import matplotlib.pyplot as plt\n",
        "\n",
        "plt.plot(t, L)\n",
        "plt.show()"
      ],
      "execution_count": null,
      "outputs": [
        {
          "output_type": "display_data",
          "data": {
            "image/png": "[encoded data removed]",
            "text/plain": [
              "<Figure size 432x288 with 1 Axes>"
            ]
          },
          "metadata": {
            "tags": [],
            "needs_background": "light"
          }
        }
      ]
    },
    {
      "cell_type": "code",
      "metadata": {
        "id": "--_1nI2I9gBB",
        "outputId": "fb4317c8-02d8-44f0-c1da-ac3cc31b33e8",
        "colab": {
          "base_uri": "https://localhost:8080/",
          "height": 269
        }
      },
      "source": [
        "### plot the function with yscale in \"log\"\n",
        "import matplotlib.pyplot as plt\n",
        "\n",
        "plt.plot(t, L)\n",
        "plt.yscale(\"log\")\n",
        "plt.show()"
      ],
      "execution_count": null,
      "outputs": [
        {
          "output_type": "display_data",
          "data": {
            "image/png": "[encoded data removed]",
            "text/plain": [
              "<Figure size 432x288 with 1 Axes>"
            ]
          },
          "metadata": {
            "tags": [],
            "needs_background": "light"
          }
        }
      ]
    },
    {
      "cell_type": "markdown",
      "metadata": {
        "id": "pQmEzhw57mXG"
      },
      "source": [
        "**Step 2: Plot the Production Function**\n",
        "\n",
        "$y=A*k^{\\beta}$\n"
      ]
    },
    {
      "cell_type": "code",
      "metadata": {
        "id": "6XZXXKP0uH4A"
      },
      "source": [
        "beta = 0.5"
      ],
      "execution_count": null,
      "outputs": []
    },
    {
      "cell_type": "code",
      "metadata": {
        "id": "DjvdPehKuV0t"
      },
      "source": [
        "### define the function\n",
        "def y(k):\n",
        "  y=A*np.power(k,beta)\n",
        "  return y"
      ],
      "execution_count": null,
      "outputs": []
    },
    {
      "cell_type": "code",
      "metadata": {
        "id": "eFJ62CqxuUiz",
        "outputId": "68842c6a-13ad-4fbb-b9f0-ce1a344a2bd7",
        "colab": {
          "base_uri": "https://localhost:8080/"
        }
      },
      "source": [
        "## check the initial condition\n",
        "y(k0)"
      ],
      "execution_count": null,
      "outputs": [
        {
          "output_type": "execute_result",
          "data": {
            "text/plain": [
              "10.0"
            ]
          },
          "metadata": {
            "tags": []
          },
          "execution_count": 13
        }
      ]
    },
    {
      "cell_type": "code",
      "metadata": {
        "id": "Y9ffYrhJuzgo"
      },
      "source": [
        "k = np.linspace(k0, 100)\n",
        "y=y(k)"
      ],
      "execution_count": null,
      "outputs": []
    },
    {
      "cell_type": "code",
      "metadata": {
        "id": "-2pVX3TGu8qd",
        "outputId": "c4b9fd76-0fc7-48bf-ab38-a956b7321b9d",
        "colab": {
          "base_uri": "https://localhost:8080/",
          "height": 265
        }
      },
      "source": [
        "### plot the function\n",
        "import matplotlib.pyplot as plt\n",
        "\n",
        "plt.plot(k, y)\n",
        "plt.show()"
      ],
      "execution_count": null,
      "outputs": [
        {
          "output_type": "display_data",
          "data": {
            "image/png": "[encoded data removed]",
            "text/plain": [
              "<Figure size 432x288 with 1 Axes>"
            ]
          },
          "metadata": {
            "tags": [],
            "needs_background": "light"
          }
        }
      ]
    },
    {
      "cell_type": "markdown",
      "metadata": {
        "id": "bg1Wb2-GvLd4"
      },
      "source": [
        "**Step 3: Solve for the steady State**\n",
        "Refers to Latex Symbol here: https://artofproblemsolving.com/wiki/index.php/LaTeX:Symbols\n",
        "\n",
        "$0=\\bigtriangleup k/k=s*y(k)-s*\\delta-n $\n"
      ]
    },
    {
      "cell_type": "markdown",
      "metadata": {
        "id": "ysgHOjd_yiXA"
      },
      "source": [
        "Plot $g(k)=s*A*k^{\\beta-1}$"
      ]
    },
    {
      "cell_type": "code",
      "metadata": {
        "id": "tshvg8UAyHZJ"
      },
      "source": [
        "def G(k):\n",
        "  g=s*A*np.power(k,beta-1)\n",
        "  return g"
      ],
      "execution_count": null,
      "outputs": []
    },
    {
      "cell_type": "code",
      "metadata": {
        "id": "M8sVmHWGy1Z2",
        "outputId": "bd114f4e-2788-41f1-9581-bca51fbdbeb9",
        "colab": {
          "base_uri": "https://localhost:8080/"
        }
      },
      "source": [
        "G(k0)"
      ],
      "execution_count": null,
      "outputs": [
        {
          "output_type": "execute_result",
          "data": {
            "text/plain": [
              "5.0"
            ]
          },
          "metadata": {
            "tags": []
          },
          "execution_count": 17
        }
      ]
    },
    {
      "cell_type": "code",
      "metadata": {
        "id": "DhJej8sSy6z_"
      },
      "source": [
        "k = np.linspace(k0, 100)\n",
        "g1=G(k)"
      ],
      "execution_count": null,
      "outputs": []
    },
    {
      "cell_type": "code",
      "metadata": {
        "id": "EnKvCmGzzHTg",
        "outputId": "283886ff-f3ed-408d-ceb1-8291f4008476",
        "colab": {
          "base_uri": "https://localhost:8080/",
          "height": 265
        }
      },
      "source": [
        "### plot the function\n",
        "import matplotlib.pyplot as plt\n",
        "\n",
        "plt.plot(k, g1)\n",
        "plt.show()"
      ],
      "execution_count": null,
      "outputs": [
        {
          "output_type": "display_data",
          "data": {
            "image/png": "[encoded data removed]",
            "text/plain": [
              "<Figure size 432x288 with 1 Axes>"
            ]
          },
          "metadata": {
            "tags": [],
            "needs_background": "light"
          }
        }
      ]
    },
    {
      "cell_type": "code",
      "metadata": {
        "id": "BQ1rZQyQzLtr",
        "outputId": "0f067391-cea0-4acb-f633-3d94e47b6113",
        "colab": {
          "base_uri": "https://localhost:8080/"
        }
      },
      "source": [
        "s*delta+n"
      ],
      "execution_count": null,
      "outputs": [
        {
          "output_type": "execute_result",
          "data": {
            "text/plain": [
              "2.05"
            ]
          },
          "metadata": {
            "tags": []
          },
          "execution_count": 20
        }
      ]
    },
    {
      "cell_type": "code",
      "metadata": {
        "id": "WuT8kdFgzQgj",
        "outputId": "24cc57ac-087d-4db1-a4d9-c93d0266c51a",
        "colab": {
          "base_uri": "https://localhost:8080/",
          "height": 615
        }
      },
      "source": [
        "### plot the function\n",
        "import matplotlib.pyplot as plt\n",
        "fig= plt.figure(figsize=(20,10))\n",
        "\n",
        "plt.plot(k, g1)\n",
        "plt.axhline(y=s*delta+n)\n",
        "plt.xlabel('$k$',fontsize=20)\n",
        "plt.show()"
      ],
      "execution_count": null,
      "outputs": [
        {
          "output_type": "display_data",
          "data": {
            "image/png": "[encoded data removed]",
            "text/plain": [
              "<Figure size 1440x720 with 1 Axes>"
            ]
          },
          "metadata": {
            "tags": [],
            "needs_background": "light"
          }
        }
      ]
    },
    {
      "cell_type": "markdown",
      "metadata": {
        "id": "qWlVODyy4LKn"
      },
      "source": [
        "### Solve for the steady state $k^{*}$"
      ]
    },
    {
      "cell_type": "code",
      "metadata": {
        "id": "qkh3d-800saG"
      },
      "source": [
        "from sympy.solvers import solve\n",
        "from sympy import Symbol\n",
        "k=Symbol('k')"
      ],
      "execution_count": null,
      "outputs": []
    },
    {
      "cell_type": "code",
      "metadata": {
        "id": "W936ShPd3uNb",
        "outputId": "4246d0cf-e4ca-4dbb-eb87-ee3ad1e8b21e",
        "colab": {
          "base_uri": "https://localhost:8080/"
        }
      },
      "source": [
        "k_steady=solve(s*A*np.power(k,beta)/k-s*delta-n,k)\n",
        "k_steady"
      ],
      "execution_count": null,
      "outputs": [
        {
          "output_type": "execute_result",
          "data": {
            "text/plain": [
              "[5.94883997620464]"
            ]
          },
          "metadata": {
            "tags": []
          },
          "execution_count": 23
        }
      ]
    },
    {
      "cell_type": "markdown",
      "metadata": {
        "id": "Gawwt2KA5Xf8"
      },
      "source": [
        "**Step 4: Plot the Steady State Economy**"
      ]
    },
    {
      "cell_type": "code",
      "metadata": {
        "id": "NW1fBHMH5t3o",
        "outputId": "7dc14e17-10ce-42f5-8b80-5a0cd18144c9",
        "colab": {
          "base_uri": "https://localhost:8080/"
        }
      },
      "source": [
        "y_steady = A*np.power(k_steady,beta)\n",
        "y_steady"
      ],
      "execution_count": null,
      "outputs": [
        {
          "output_type": "execute_result",
          "data": {
            "text/plain": [
              "array([24.3902439024390], dtype=object)"
            ]
          },
          "metadata": {
            "tags": []
          },
          "execution_count": 24
        }
      ]
    },
    {
      "cell_type": "code",
      "metadata": {
        "id": "-tB1_9zS3xuS"
      },
      "source": [
        "def Y(t):\n",
        "  Y = y_steady*L0*np.exp(n*t)\n",
        "  return Y"
      ],
      "execution_count": null,
      "outputs": []
    },
    {
      "cell_type": "code",
      "metadata": {
        "id": "YUrVdZGr6Ji3"
      },
      "source": [
        "t = np.linspace(0, 10)\n",
        "Y=Y(t)"
      ],
      "execution_count": null,
      "outputs": []
    },
    {
      "cell_type": "code",
      "metadata": {
        "id": "A40Z24lx6URG",
        "outputId": "8fb655fb-e158-46c9-ef62-fa99b1ae4975",
        "colab": {
          "base_uri": "https://localhost:8080/",
          "height": 602
        }
      },
      "source": [
        "### plot the function\n",
        "import matplotlib.pyplot as plt\n",
        "fig= plt.figure(figsize=(20,10))\n",
        "\n",
        "plt.plot(t, Y)\n",
        "plt.show()"
      ],
      "execution_count": null,
      "outputs": [
        {
          "output_type": "display_data",
          "data": {
            "image/png": "[encoded data removed]",
            "text/plain": [
              "<Figure size 1440x720 with 1 Axes>"
            ]
          },
          "metadata": {
            "tags": [],
            "needs_background": "light"
          }
        }
      ]
    },
    {
      "cell_type": "markdown",
      "metadata": {
        "id": "hrJ4RCc2nKpy"
      },
      "source": [
        "#**Technology Growth**\n",
        "\n",
        "# $y=y(0)*e^{at}$, where a is growth rate of technology A"
      ]
    },
    {
      "cell_type": "code",
      "metadata": {
        "id": "HESqAWZTO7kc"
      },
      "source": [
        "def y(t):\n",
        "  y = y0*np.exp(a*t)\n",
        "  return y"
      ],
      "execution_count": null,
      "outputs": []
    },
    {
      "cell_type": "code",
      "metadata": {
        "id": "-_b9AbHGnUQf"
      },
      "source": [
        "# when there is no technology growth a=0\n",
        "y0=y_steady\n",
        "a=0"
      ],
      "execution_count": null,
      "outputs": []
    },
    {
      "cell_type": "code",
      "metadata": {
        "id": "B19yTwhznb_k"
      },
      "source": [
        "t = np.linspace(0, 10)\n",
        "y1 =y(t)"
      ],
      "execution_count": null,
      "outputs": []
    },
    {
      "cell_type": "code",
      "metadata": {
        "id": "C8vmcvq3nnC0",
        "outputId": "843eb07d-776e-4cfa-94fe-4bf89d2812b6",
        "colab": {
          "base_uri": "https://localhost:8080/",
          "height": 592
        }
      },
      "source": [
        "### plot the function\n",
        "import matplotlib.pyplot as plt\n",
        "fig= plt.figure(figsize=(20,10))\n",
        "\n",
        "plt.plot(t, y1)\n",
        "plt.show()"
      ],
      "execution_count": null,
      "outputs": [
        {
          "output_type": "display_data",
          "data": {
            "image/png": "[encoded data removed]",
            "text/plain": [
              "<Figure size 1440x720 with 1 Axes>"
            ]
          },
          "metadata": {
            "tags": [],
            "needs_background": "light"
          }
        }
      ]
    },
    {
      "cell_type": "code",
      "metadata": {
        "id": "PRPwtCVUno6D"
      },
      "source": [
        "### when technology growth rate a =1\n",
        "y0=y_steady\n",
        "a=1"
      ],
      "execution_count": null,
      "outputs": []
    },
    {
      "cell_type": "code",
      "metadata": {
        "id": "jwloBno5nwCz"
      },
      "source": [
        "t = np.linspace(0, 10)\n",
        "y2 =y(t)"
      ],
      "execution_count": null,
      "outputs": []
    },
    {
      "cell_type": "code",
      "metadata": {
        "id": "AxHBGoxbn0FI",
        "outputId": "0fb3169c-71de-417a-a624-7df81da765c0",
        "colab": {
          "base_uri": "https://localhost:8080/",
          "height": 609
        }
      },
      "source": [
        "### plot the function\n",
        "import matplotlib.pyplot as plt\n",
        "fig= plt.figure(figsize=(20,10))\n",
        "plt.plot(t,y1,label=\"a=0\")\n",
        "plt.plot(t,y2,label=\"a=1\")\n",
        "plt.legend()\n",
        "plt.title(\"Steady State GDP per Capital y with different technology growth rate a \", fontsize=16)\n",
        "plt.show()"
      ],
      "execution_count": null,
      "outputs": [
        {
          "output_type": "display_data",
          "data": {
            "image/png": "[encoded data removed]",
            "text/plain": [
              "<Figure size 1440x720 with 1 Axes>"
            ]
          },
          "metadata": {
            "tags": [],
            "needs_background": "light"
          }
        }
      ]
    },
    {
      "cell_type": "code",
      "metadata": {
        "id": "KUfUHe1woETX"
      },
      "source": [
        ""
      ],
      "execution_count": null,
      "outputs": []
    }
  ]
}